{
 "cells": [
  {
   "cell_type": "markdown",
   "id": "bce5256d-4e6e-4456-bc4c-63cd8b5f37e5",
   "metadata": {},
   "source": [
    "# Aplicando os conhecimentos sobre regressão linear vistos na aula de inteligência artificial."
   ]
  },
  {
   "cell_type": "code",
   "execution_count": 2,
   "id": "e55eb92c-b983-4d57-8fc0-c108e134d2dd",
   "metadata": {},
   "outputs": [],
   "source": [
    "import pandas as pd\n",
    "import json"
   ]
  },
  {
   "cell_type": "markdown",
   "id": "1ddf6ce0-5ba5-406a-b696-6629df5ebd74",
   "metadata": {},
   "source": [
    "## Parsing Titanic.json to csv file"
   ]
  },
  {
   "cell_type": "code",
   "execution_count": 3,
   "id": "e4f6e363-49a2-4de9-a1c3-1e61e03bc4cb",
   "metadata": {},
   "outputs": [],
   "source": [
    "with open(\"./data/Titanic.json\") as file:\n",
    "    data = json.load(file)\n",
    "    pd.json_normalize(data)\n",
    "\n",
    "df = pd.DataFrame(data)\n",
    "df.to_csv(\"./data/Titanic.csv\", encoding=\"utf-8\")"
   ]
  },
  {
   "cell_type": "code",
   "execution_count": 69,
   "id": "22bed87e-a990-49f9-94b3-9339becbaf45",
   "metadata": {},
   "outputs": [],
   "source": [
    "ps = df[df[\"age\"] != \"\"]\n",
    "passengers_ages = ps[[\"name\", \"age\"]]"
   ]
  },
  {
   "cell_type": "code",
   "execution_count": null,
   "id": "56dd46e8-7236-43e8-a89f-f6bb63f7f1cb",
   "metadata": {},
   "outputs": [],
   "source": []
  }
 ],
 "metadata": {
  "kernelspec": {
   "display_name": "Python 3 (ipykernel)",
   "language": "python",
   "name": "python3"
  },
  "language_info": {
   "codemirror_mode": {
    "name": "ipython",
    "version": 3
   },
   "file_extension": ".py",
   "mimetype": "text/x-python",
   "name": "python",
   "nbconvert_exporter": "python",
   "pygments_lexer": "ipython3",
   "version": "3.10.8"
  }
 },
 "nbformat": 4,
 "nbformat_minor": 5
}
